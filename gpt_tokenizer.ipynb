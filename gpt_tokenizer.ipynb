{
 "cells": [
  {
   "cell_type": "code",
   "execution_count": 54,
   "id": "8bf63e8d",
   "metadata": {},
   "outputs": [],
   "source": [
    "with open(\"data/blog.txt\", 'r', encoding='utf-8') as f:\n",
    "    text = f.read()\n",
    "tokens = list(map(int,text.encode(\"utf-8\")))"
   ]
  },
  {
   "cell_type": "code",
   "execution_count": 55,
   "id": "9a71298b",
   "metadata": {},
   "outputs": [
    {
     "name": "stdout",
     "output_type": "stream",
     "text": [
      "[239, 188, 181, 239, 189, 142, 239, 189, 137, 239, 189, 131, 239, 189, 143, 239, 189, 132, 239, 189]\n"
     ]
    },
    {
     "data": {
      "text/plain": [
       "24213"
      ]
     },
     "execution_count": 55,
     "metadata": {},
     "output_type": "execute_result"
    }
   ],
   "source": [
    "print(tokens[:20])\n",
    "len(tokens)"
   ]
  },
  {
   "cell_type": "code",
   "execution_count": 56,
   "id": "29bab4d3",
   "metadata": {},
   "outputs": [],
   "source": [
    "def get_stat(ids):\n",
    "    count = {}\n",
    "    for pair in zip(ids,ids[1:]):\n",
    "        count[pair] = count.get(pair,0) + 1\n",
    "    return count\n",
    "\n",
    "def merge(ids, pair, idx):\n",
    "    new_ids = []\n",
    "    i=0\n",
    "    while i< len(ids):\n",
    "        if i< len(ids)-1 and ids[i] == pair[0] and ids[i+1] == pair[1]:\n",
    "            new_ids.append(idx)\n",
    "            i+=2\n",
    "        else:\n",
    "            new_ids.append(ids[i])\n",
    "            i+=1\n",
    "    return new_ids\n"
   ]
  },
  {
   "cell_type": "code",
   "execution_count": 57,
   "id": "42d9b43f",
   "metadata": {},
   "outputs": [],
   "source": [
    "vocab_size = 276\n",
    "num_merges = vocab_size - 256\n",
    "\n",
    "ids = list(tokens)\n",
    "\n",
    "merges = {}\n",
    "for i in range(num_merges):\n",
    "    counts = get_stat(ids)\n",
    "    pair = max(counts, key=counts.get)\n",
    "    idx = 256 + i\n",
    "    ids = merge(ids,pair,idx)\n",
    "    merges[pair] = idx"
   ]
  },
  {
   "cell_type": "code",
   "execution_count": 79,
   "id": "032486d0",
   "metadata": {},
   "outputs": [],
   "source": [
    "vocab = {idx: bytes([idx]) for idx in range(256)}\n",
    "for (p0,p1), idx in merges.items():\n",
    "    vocab[idx] = vocab[p0]+vocab[p1]\n",
    "\n",
    "def decode(ids:list[int])->str:\n",
    "    tokens = b\"\".join([vocab[idx] for idx in ids])\n",
    "    text = tokens.decode('utf-8', errors='replace')\n",
    "    return text\n",
    "\n",
    "def encode(text:str)-> list[int]:\n",
    "    tokens = list(text.encode(\"utf-8\"))\n",
    "    while len(tokens) > 1:\n",
    "        stats = get_stat(tokens)\n",
    "        pair = min(stats, key=lambda p: merges.get(p, float('inf')))\n",
    "        if pair not in merges:\n",
    "            break # there is not to merge\n",
    "        idx = merges[pair]\n",
    "        tokens = merge(tokens,pair,idx)\n",
    "\n",
    "    return tokens\n",
    "    "
   ]
  },
  {
   "cell_type": "code",
   "execution_count": 80,
   "id": "6d470e94",
   "metadata": {},
   "outputs": [
    {
     "data": {
      "text/plain": [
       "'Ｕｎｉｃｏｄｅ! 🅤'"
      ]
     },
     "execution_count": 80,
     "metadata": {},
     "output_type": "execute_result"
    }
   ],
   "source": [
    "text[:10]"
   ]
  },
  {
   "cell_type": "code",
   "execution_count": 83,
   "id": "72ef0e13",
   "metadata": {},
   "outputs": [
    {
     "data": {
      "text/plain": [
       "'Ｕｎｉｃｏｄｅ! 🅤'"
      ]
     },
     "execution_count": 83,
     "metadata": {},
     "output_type": "execute_result"
    }
   ],
   "source": [
    "decode(encode(text[:10]))"
   ]
  },
  {
   "cell_type": "code",
   "execution_count": null,
   "id": "c514d2b9",
   "metadata": {},
   "outputs": [],
   "source": []
  }
 ],
 "metadata": {
  "kernelspec": {
   "display_name": "base",
   "language": "python",
   "name": "python3"
  },
  "language_info": {
   "codemirror_mode": {
    "name": "ipython",
    "version": 3
   },
   "file_extension": ".py",
   "mimetype": "text/x-python",
   "name": "python",
   "nbconvert_exporter": "python",
   "pygments_lexer": "ipython3",
   "version": "3.12.4"
  }
 },
 "nbformat": 4,
 "nbformat_minor": 5
}
