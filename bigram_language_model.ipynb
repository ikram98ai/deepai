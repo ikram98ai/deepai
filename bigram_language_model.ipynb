{
 "cells": [
  {
   "cell_type": "code",
   "execution_count": 1,
   "id": "d86ee23f",
   "metadata": {},
   "outputs": [],
   "source": [
    "import torch\n",
    "import torch.nn as nn\n",
    "import torch.nn.functional as F\n",
    "from torch import Tensor\n",
    "import matplotlib.pyplot as plt\n",
    "%matplotlib inline"
   ]
  },
  {
   "cell_type": "code",
   "execution_count": 2,
   "id": "4aad4cea",
   "metadata": {},
   "outputs": [],
   "source": [
    "with open(\"data/shakespeares.txt\", mode='r', encoding=\"utf-8\") as f:\n",
    "    text = f.read()"
   ]
  },
  {
   "cell_type": "code",
   "execution_count": 3,
   "id": "a9d18025",
   "metadata": {},
   "outputs": [],
   "source": [
    "chars = list(set(text))\n",
    "vocab_size = len(chars)\n",
    "\n",
    "stoi = {c:i for i,c in enumerate(chars)}\n",
    "itos = {i:c for i,c in enumerate(chars)}\n",
    "encode = lambda s: [stoi[c] for c in s]\n",
    "decode = lambda ids: \"\".join([itos[idx] for idx in ids])"
   ]
  },
  {
   "cell_type": "code",
   "execution_count": 4,
   "id": "64b0ce12",
   "metadata": {},
   "outputs": [
    {
     "data": {
      "text/plain": [
       "(\"y t V E X o b h R M T   G B c d u v I N e - $ D n A F ; x . s z \\n ? J , ! H W Z K w i ' Q Y : P S m & p U f k r L O l 3 C q a j g\",\n",
       " 65,\n",
       " 'I love deeplearning')"
      ]
     },
     "execution_count": 4,
     "metadata": {},
     "output_type": "execute_result"
    }
   ],
   "source": [
    "\" \".join(chars), vocab_size, decode(encode(\"I love deeplearning\"))"
   ]
  },
  {
   "cell_type": "code",
   "execution_count": 5,
   "id": "8e2b6168",
   "metadata": {},
   "outputs": [
    {
     "data": {
      "text/plain": [
       "(1003854, 111540)"
      ]
     },
     "execution_count": 5,
     "metadata": {},
     "output_type": "execute_result"
    }
   ],
   "source": [
    "data = torch.tensor(encode(text))\n",
    "n1 = int(0.9 * len(data))\n",
    "train_data = data[:n1]\n",
    "val_data = data[n1:]\n",
    "len(train_data), len(val_data)"
   ]
  },
  {
   "cell_type": "code",
   "execution_count": 6,
   "id": "dd3ea4f0",
   "metadata": {},
   "outputs": [],
   "source": [
    "torch.manual_seed(1337)\n",
    "batch_size = 32\n",
    "block_size = 8 # context size\n",
    "\n",
    "def get_batch(split):\n",
    "    data = train_data if split == \"train\" else val_data\n",
    "\n",
    "    ix = torch.randint(len(data)-block_size, (batch_size,))\n",
    "    x = torch.stack([data[i: i+block_size] for i in ix])\n",
    "    y = torch.stack([data[i+1:i+block_size+1] for i in ix])\n",
    "    return x,y"
   ]
  },
  {
   "cell_type": "code",
   "execution_count": 7,
   "id": "b83b6cf0",
   "metadata": {},
   "outputs": [
    {
     "data": {
      "text/plain": [
       "(torch.Size([32, 8]), torch.Size([32, 8]))"
      ]
     },
     "execution_count": 7,
     "metadata": {},
     "output_type": "execute_result"
    }
   ],
   "source": [
    "xb, yb = get_batch(\"train\")\n",
    "xb.shape, yb.shape"
   ]
  },
  {
   "cell_type": "code",
   "execution_count": 19,
   "id": "e54c26d1",
   "metadata": {},
   "outputs": [
    {
     "name": "stdout",
     "output_type": "stream",
     "text": [
      "yUuvT;pfC'P'v'Av\n",
      "FM-vRm\n",
      "B,n\n",
      "hbiwfRRoNJRHGyC3eG B!zhfwbn'NiZUkUhIyU;CbQLK-',HwQspR .ncqWK:IykfUDNb.mdI\n"
     ]
    }
   ],
   "source": [
    "class BigramLanguageModel(nn.Module):\n",
    "    def __init__(self):\n",
    "        super().__init__()\n",
    "        self.embedding_token_table = nn.Embedding(vocab_size,vocab_size)\n",
    "    def __call__(self, idx:Tensor, target:Tensor=None): # idx:(B,T), target:(B,T)\n",
    "        logits:Tensor = self.embedding_token_table(idx) # (B,T,C)\n",
    "        loss=None\n",
    "        if target is not None:\n",
    "            B,T,C = logits.shape\n",
    "            logits = logits.view(B*T, C)\n",
    "            target = target.view(-1)\n",
    "            loss = F.cross_entropy( logits, target)\n",
    "        return logits, loss\n",
    "\n",
    "    def generate(self, idx:Tensor, max_token): # idx:(B,T)\n",
    "        for _ in range(max_token):\n",
    "            logits, _ = self(idx)\n",
    "            logits = logits[:,-1,:] # (B,C)\n",
    "            probs = F.softmax(logits,dim=-1)\n",
    "            idx_next = torch.multinomial(probs, num_samples=1) # (B,1)\n",
    "            idx = torch.cat((idx,idx_next),dim=1) # (B,T+1)\n",
    "        return idx\n",
    "\n",
    "model = BigramLanguageModel()\n",
    "\n",
    "idx = torch.zeros((1, 1),dtype=torch.long)\n",
    "print(decode(model.generate(idx, 100)[0].tolist()))"
   ]
  },
  {
   "cell_type": "code",
   "execution_count": 20,
   "id": "ccd09aeb",
   "metadata": {},
   "outputs": [],
   "source": [
    "optimizer = torch.optim.AdamW(model.parameters(), lr=1e-3)"
   ]
  },
  {
   "cell_type": "code",
   "execution_count": 25,
   "id": "17cb7835",
   "metadata": {},
   "outputs": [
    {
     "name": "stdout",
     "output_type": "stream",
     "text": [
      "2.580059051513672\n",
      "2.358429431915283\n",
      "2.4657866954803467\n",
      "2.4264559745788574\n",
      "2.4315245151519775\n",
      "2.4069695472717285\n",
      "2.415640354156494\n",
      "2.519814968109131\n",
      "2.4235448837280273\n",
      "2.429150104522705\n",
      "y de\n",
      "TI air thind,\n",
      "\n",
      "CKENINCe hatier t halequr\n",
      "\n",
      "UScthoind ie, igeall:\n",
      "\n",
      "ARid wha st,\n",
      "LAnotikikemeout mp\n"
     ]
    }
   ],
   "source": [
    "for i in range(10000):\n",
    "    xb,yb = get_batch(\"train\")\n",
    "    logits, loss = model(xb,yb)\n",
    "    optimizer.zero_grad(set_to_none=True)\n",
    "    loss.backward()\n",
    "    optimizer.step()\n",
    "    if i % 1000 ==0:\n",
    "        print(loss.item())\n",
    "print(decode(model.generate(idx, 100)[0].tolist()))"
   ]
  },
  {
   "cell_type": "markdown",
   "id": "6b6020e8",
   "metadata": {},
   "source": [
    "## The mathematical trick in self-attention"
   ]
  },
  {
   "cell_type": "code",
   "execution_count": 4,
   "id": "aa48e7ff",
   "metadata": {},
   "outputs": [
    {
     "data": {
      "text/plain": [
       "torch.Size([4, 8, 2])"
      ]
     },
     "execution_count": 4,
     "metadata": {},
     "output_type": "execute_result"
    }
   ],
   "source": [
    "torch.manual_seed(1337)\n",
    "B,T,C = 4, 8, 2\n",
    "x = torch.randn(B,T,C)\n",
    "x.shape"
   ]
  },
  {
   "cell_type": "code",
   "execution_count": null,
   "id": "fdff5db3",
   "metadata": {},
   "outputs": [],
   "source": []
  }
 ],
 "metadata": {
  "kernelspec": {
   "display_name": "base",
   "language": "python",
   "name": "python3"
  },
  "language_info": {
   "codemirror_mode": {
    "name": "ipython",
    "version": 3
   },
   "file_extension": ".py",
   "mimetype": "text/x-python",
   "name": "python",
   "nbconvert_exporter": "python",
   "pygments_lexer": "ipython3",
   "version": "3.12.4"
  }
 },
 "nbformat": 4,
 "nbformat_minor": 5
}
